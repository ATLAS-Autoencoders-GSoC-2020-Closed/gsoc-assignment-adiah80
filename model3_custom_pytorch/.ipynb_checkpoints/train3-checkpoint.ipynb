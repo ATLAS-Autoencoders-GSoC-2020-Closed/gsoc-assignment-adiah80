{
 "cells": [
  {
   "cell_type": "markdown",
   "metadata": {},
   "source": [
    "# TAKEN"
   ]
  },
  {
   "cell_type": "code",
   "execution_count": null,
   "metadata": {},
   "outputs": [],
   "source": [
    "%matplotlib inline\n",
    "import sys\n",
    "BIN = '../'\n",
    "sys.path.append(BIN)\n",
    "import numpy as np\n",
    "import pandas as pd\n",
    "import matplotlib.pyplot as plt\n",
    "#from sklearn.model_selection import train_test_split\n",
    "\n",
    "import torch\n",
    "import torch.nn as nn\n",
    "#import torch.nn.parallel\n",
    "import torch.optim as optim\n",
    "import torch.utils.data\n",
    "from torch.autograd import Variable\n",
    "\n",
    "from torch.utils.data import TensorDataset\n",
    "from torch.utils.data import DataLoader\n",
    "\n",
    "# import my_matplotlib_style as ms\n",
    "\n",
    "# from fastai import data_block, basic_train, basic_data\n",
    "# from fastai.callbacks import ActivationStats\n",
    "# import fastai\n",
    "\n",
    "import matplotlib as mpl\n",
    "# mpl.rc_file(BIN + 'my_matplotlib_rcparams')"
   ]
  },
  {
   "cell_type": "code",
   "execution_count": 21,
   "metadata": {},
   "outputs": [
    {
     "name": "stdout",
     "output_type": "stream",
     "text": [
      "cpu\n"
     ]
    }
   ],
   "source": [
    "import torch.nn as nn\n",
    "# import torchvision.transforms as transforms\n",
    "# device = torch.device(\"cuda\" if torch.cuda.is_available() else \"cpu\")\n",
    "device = torch.device(\"cpu\")\n",
    "print(device)"
   ]
  },
  {
   "cell_type": "code",
   "execution_count": 2,
   "metadata": {},
   "outputs": [],
   "source": [
    "import os\n",
    "os.chdir('/home/black/Desktop/tCERN/HEPAutoencoders')"
   ]
  },
  {
   "cell_type": "code",
   "execution_count": 3,
   "metadata": {},
   "outputs": [],
   "source": [
    "from nn_utils import AE_big, AE_3D_200\n",
    "from utils import plot_activations"
   ]
  },
  {
   "cell_type": "code",
   "execution_count": 5,
   "metadata": {},
   "outputs": [],
   "source": [
    "# print(torch.cuda.is_available())\n",
    "# fastai.torch_core.defaults.device = 'cpu'\n",
    "# device = torch.device(\"cuda\" if torch.cuda.is_available() else \"cpu\")\n"
   ]
  },
  {
   "cell_type": "code",
   "execution_count": 6,
   "metadata": {},
   "outputs": [
    {
     "name": "stdout",
     "output_type": "stream",
     "text": [
      "all_jets_test_4D_100_percent.pkl  all_jets_train_4D_100_percent.pkl\r\n"
     ]
    }
   ],
   "source": [
    "!ls ../self_data"
   ]
  },
  {
   "cell_type": "code",
   "execution_count": 7,
   "metadata": {},
   "outputs": [
    {
     "data": {
      "text/html": [
       "<div>\n",
       "<style scoped>\n",
       "    .dataframe tbody tr th:only-of-type {\n",
       "        vertical-align: middle;\n",
       "    }\n",
       "\n",
       "    .dataframe tbody tr th {\n",
       "        vertical-align: top;\n",
       "    }\n",
       "\n",
       "    .dataframe thead th {\n",
       "        text-align: right;\n",
       "    }\n",
       "</style>\n",
       "<table border=\"1\" class=\"dataframe\">\n",
       "  <thead>\n",
       "    <tr style=\"text-align: right;\">\n",
       "      <th></th>\n",
       "      <th>m</th>\n",
       "      <th>pt</th>\n",
       "      <th>phi</th>\n",
       "      <th>eta</th>\n",
       "    </tr>\n",
       "  </thead>\n",
       "  <tbody>\n",
       "    <tr>\n",
       "      <th>132784</th>\n",
       "      <td>3831.839355</td>\n",
       "      <td>22000.609375</td>\n",
       "      <td>1.567018</td>\n",
       "      <td>1.142924</td>\n",
       "    </tr>\n",
       "    <tr>\n",
       "      <th>99666</th>\n",
       "      <td>4582.417480</td>\n",
       "      <td>21648.210938</td>\n",
       "      <td>-2.680558</td>\n",
       "      <td>0.213654</td>\n",
       "    </tr>\n",
       "    <tr>\n",
       "      <th>26629</th>\n",
       "      <td>16747.765625</td>\n",
       "      <td>169514.281250</td>\n",
       "      <td>-1.948239</td>\n",
       "      <td>1.163296</td>\n",
       "    </tr>\n",
       "    <tr>\n",
       "      <th>80473</th>\n",
       "      <td>14789.586914</td>\n",
       "      <td>183085.609375</td>\n",
       "      <td>-1.641102</td>\n",
       "      <td>2.670927</td>\n",
       "    </tr>\n",
       "    <tr>\n",
       "      <th>48229</th>\n",
       "      <td>4646.724121</td>\n",
       "      <td>20527.130859</td>\n",
       "      <td>2.922270</td>\n",
       "      <td>-1.158871</td>\n",
       "    </tr>\n",
       "    <tr>\n",
       "      <th>61832</th>\n",
       "      <td>6236.774414</td>\n",
       "      <td>30013.537109</td>\n",
       "      <td>-2.962712</td>\n",
       "      <td>0.091814</td>\n",
       "    </tr>\n",
       "    <tr>\n",
       "      <th>26867</th>\n",
       "      <td>17774.943359</td>\n",
       "      <td>205705.046875</td>\n",
       "      <td>2.472530</td>\n",
       "      <td>-1.299140</td>\n",
       "    </tr>\n",
       "    <tr>\n",
       "      <th>46232</th>\n",
       "      <td>4181.291992</td>\n",
       "      <td>20511.900391</td>\n",
       "      <td>-1.937396</td>\n",
       "      <td>-1.893408</td>\n",
       "    </tr>\n",
       "    <tr>\n",
       "      <th>44194</th>\n",
       "      <td>4537.854492</td>\n",
       "      <td>29095.220703</td>\n",
       "      <td>2.703056</td>\n",
       "      <td>-1.746550</td>\n",
       "    </tr>\n",
       "    <tr>\n",
       "      <th>59782</th>\n",
       "      <td>6769.761719</td>\n",
       "      <td>26334.353516</td>\n",
       "      <td>1.344461</td>\n",
       "      <td>-2.599911</td>\n",
       "    </tr>\n",
       "  </tbody>\n",
       "</table>\n",
       "</div>"
      ],
      "text/plain": [
       "                   m             pt       phi       eta\n",
       "132784   3831.839355   22000.609375  1.567018  1.142924\n",
       "99666    4582.417480   21648.210938 -2.680558  0.213654\n",
       "26629   16747.765625  169514.281250 -1.948239  1.163296\n",
       "80473   14789.586914  183085.609375 -1.641102  2.670927\n",
       "48229    4646.724121   20527.130859  2.922270 -1.158871\n",
       "61832    6236.774414   30013.537109 -2.962712  0.091814\n",
       "26867   17774.943359  205705.046875  2.472530 -1.299140\n",
       "46232    4181.291992   20511.900391 -1.937396 -1.893408\n",
       "44194    4537.854492   29095.220703  2.703056 -1.746550\n",
       "59782    6769.761719   26334.353516  1.344461 -2.599911"
      ]
     },
     "execution_count": 7,
     "metadata": {},
     "output_type": "execute_result"
    }
   ],
   "source": [
    "# Load data\n",
    "train = pd.read_pickle('../self_data/all_jets_train_4D_100_percent.pkl')\n",
    "test = pd.read_pickle('../self_data/all_jets_test_4D_100_percent.pkl')\n",
    "n_features = len(train.loc[0])\n",
    "\n",
    "train.head(10)"
   ]
  },
  {
   "cell_type": "code",
   "execution_count": 8,
   "metadata": {},
   "outputs": [],
   "source": [
    "# Normalize\n",
    "train_mean = train.mean()\n",
    "train_std = train.std()\n",
    "\n",
    "train = (train - train_mean) / train_std\n",
    "test = (test - train_mean) / train_std\n",
    "\n",
    "# train = train.float()\n",
    "\n",
    "train_x = train\n",
    "test_x = test\n",
    "train_y = train_x  # y = x since we are building and AE\n",
    "test_y = test_x"
   ]
  },
  {
   "cell_type": "code",
   "execution_count": 9,
   "metadata": {},
   "outputs": [],
   "source": [
    "train_ds = TensorDataset(torch.tensor(train_x.values), torch.tensor(train_y.values))\n",
    "valid_ds = TensorDataset(torch.tensor(test_x.values), torch.tensor(test_y.values))"
   ]
  },
  {
   "cell_type": "code",
   "execution_count": 10,
   "metadata": {},
   "outputs": [
    {
     "name": "stdout",
     "output_type": "stream",
     "text": [
      "(111778, 4) (111778, 4)\n",
      "(27945, 4) (27945, 4)\n"
     ]
    }
   ],
   "source": [
    "print(train_x.shape, train_y.shape)\n",
    "print(test_x.shape, test_y.shape)"
   ]
  },
  {
   "cell_type": "code",
   "execution_count": 68,
   "metadata": {},
   "outputs": [],
   "source": [
    "batch_size = 1024\n",
    "train_loader = torch.utils.data.DataLoader(dataset=train_ds, batch_size=batch_size, shuffle=True)\n",
    "valid_loader = torch.utils.data.DataLoader(dataset=valid_ds, batch_size=batch_size, shuffle=True)"
   ]
  },
  {
   "cell_type": "code",
   "execution_count": 69,
   "metadata": {},
   "outputs": [],
   "source": [
    "class RMSELoss(torch.nn.Module):\n",
    "    def __init__(self):\n",
    "        super(RMSELoss,self).__init__()\n",
    "\n",
    "    def forward(self,x,y):\n",
    "        criterion = nn.MSELoss()\n",
    "        loss = torch.sqrt(criterion(x, y))\n",
    "        return loss\n",
    "    \n",
    "loss_func = nn.MSELoss()\n",
    "#loss_func = RMSELoss()\n",
    "#loss_func = my_loss_func"
   ]
  },
  {
   "cell_type": "code",
   "execution_count": null,
   "metadata": {},
   "outputs": [],
   "source": []
  },
  {
   "cell_type": "markdown",
   "metadata": {},
   "source": [
    "# Training"
   ]
  },
  {
   "cell_type": "code",
   "execution_count": 98,
   "metadata": {},
   "outputs": [],
   "source": [
    "import time\n",
    "from tqdm import tqdm, trange, tqdm_notebook\n",
    "from sklearn.metrics import f1_score, accuracy_score"
   ]
  },
  {
   "cell_type": "code",
   "execution_count": 119,
   "metadata": {},
   "outputs": [],
   "source": [
    "learning_rate = 1e-5\n",
    "num_epochs = 10\n",
    "\n",
    "model = AE_3D_200().float().to(device)\n",
    "criterion = nn.MSELoss()\n",
    "optimizer = torch.optim.Adam(model.parameters(), lr=learning_rate)"
   ]
  },
  {
   "cell_type": "code",
   "execution_count": 120,
   "metadata": {},
   "outputs": [],
   "source": [
    "iterr_count = 0\n",
    "epoch_count = 0\n",
    "\n",
    "iter_list = []\n",
    "train_loss_list = []\n",
    "train_acc_list = []\n",
    "valid_loss_list = []\n",
    "valid_acc_list = []"
   ]
  },
  {
   "cell_type": "code",
   "execution_count": 121,
   "metadata": {},
   "outputs": [],
   "source": [
    "inspect_size = 20\n",
    "n_iters = int((len(train) / batch_size) * num_epochs)\n",
    "n_inspects = int(len(train) / (batch_size*inspect_size))\n",
    "\n",
    "np.set_printoptions(suppress=True)\n",
    "torch.set_printoptions(sci_mode=False, precision=4)\n",
    "\n",
    "# print(\"Batch Size       : \", batch_size)\n",
    "# print(\"Learning Rate    : \", learning_rate)\n",
    "# print(\"Number of Epochs : \", num_epochs)\n",
    "# print(\"Iterations/Epoch : \", len(train_loader), len(valid_loader))\n",
    "# print(\"Inspects/Epoch   : \", n_inspects)"
   ]
  },
  {
   "cell_type": "code",
   "execution_count": 122,
   "metadata": {},
   "outputs": [],
   "source": [
    "# inspect_size = 80\n",
    "# num_epochs = 10\n",
    "\n",
    "monitor_iter = True\n",
    "monitor_train = True\n",
    "monitor_train_preds = False\n",
    "eval_length = 5\n",
    "monitor_valid = True\n",
    "monitor_valid_preds = False\n",
    "save_bset = False"
   ]
  },
  {
   "cell_type": "code",
   "execution_count": 138,
   "metadata": {},
   "outputs": [],
   "source": [
    "learning_rate = 1e-7\n",
    "num_epochs = 20\n",
    "inspect_size = 20"
   ]
  },
  {
   "cell_type": "code",
   "execution_count": 139,
   "metadata": {
    "scrolled": true
   },
   "outputs": [
    {
     "name": "stdout",
     "output_type": "stream",
     "text": [
      "===============================================================================================================\n"
     ]
    },
    {
     "name": "stderr",
     "output_type": "stream",
     "text": [
      "/home/black/.local/lib/python3.7/site-packages/ipykernel_launcher.py:18: TqdmDeprecationWarning: This function will be removed in tqdm==5.0.0\n",
      "Please use `tqdm.notebook.tqdm` instead of `tqdm.tqdm_notebook`\n"
     ]
    },
    {
     "data": {
      "application/vnd.jupyter.widget-view+json": {
       "model_id": "d14c58c2f9ff4850816c43e39a0b6e1d",
       "version_major": 2,
       "version_minor": 0
      },
      "text/plain": [
       "HBox(children=(FloatProgress(value=0.0, max=110.0), HTML(value='')))"
      ]
     },
     "metadata": {},
     "output_type": "display_data"
    },
    {
     "name": "stdout",
     "output_type": "stream",
     "text": [
      "[41/20] Iteration:   0 [  0%]\n",
      "------------------------\n",
      "[Train] Loss: 0.0504\n",
      "[Valid] Loss: 0.0400\n",
      "==========================================\n",
      "[41/20] Iteration:  20 [ 18%]\n",
      "------------------------\n",
      "[Train] Loss: 0.0467\n",
      "[Valid] Loss: 0.0471\n",
      "==========================================\n",
      "[41/20] Iteration:  40 [ 36%]\n",
      "------------------------\n",
      "[Train] Loss: 0.0385\n",
      "[Valid] Loss: 0.0410\n",
      "==========================================\n",
      "[41/20] Iteration:  60 [ 55%]\n",
      "------------------------\n",
      "[Train] Loss: 0.0370\n",
      "[Valid] Loss: 0.0340\n",
      "==========================================\n",
      "[41/20] Iteration:  80 [ 73%]\n",
      "------------------------\n",
      "[Train] Loss: 0.0374\n",
      "[Valid] Loss: 0.0385\n",
      "==========================================\n",
      "[41/20] Iteration: 100 [ 91%]\n",
      "------------------------\n",
      "[Train] Loss: 0.0414\n",
      "[Valid] Loss: 0.0380\n",
      "==========================================\n",
      "\n",
      "===============================================================================================================\n"
     ]
    },
    {
     "data": {
      "application/vnd.jupyter.widget-view+json": {
       "model_id": "701d5615a2a943549d2ca5d93944651c",
       "version_major": 2,
       "version_minor": 0
      },
      "text/plain": [
       "HBox(children=(FloatProgress(value=0.0, max=110.0), HTML(value='')))"
      ]
     },
     "metadata": {},
     "output_type": "display_data"
    },
    {
     "name": "stdout",
     "output_type": "stream",
     "text": [
      "[42/20] Iteration:   0 [  0%]\n",
      "------------------------\n",
      "[Train] Loss: 0.0285\n",
      "[Valid] Loss: 0.0420\n",
      "==========================================\n",
      "[42/20] Iteration:  20 [ 18%]\n",
      "------------------------\n",
      "[Train] Loss: 0.0377\n",
      "[Valid] Loss: 0.0328\n",
      "==========================================\n",
      "[42/20] Iteration:  40 [ 36%]\n",
      "------------------------\n",
      "[Train] Loss: 0.0389\n",
      "[Valid] Loss: 0.0451\n",
      "==========================================\n",
      "[42/20] Iteration:  60 [ 55%]\n",
      "------------------------\n",
      "[Train] Loss: 0.0490\n",
      "[Valid] Loss: 0.0360\n",
      "==========================================\n",
      "[42/20] Iteration:  80 [ 73%]\n",
      "------------------------\n",
      "[Train] Loss: 0.0329\n",
      "[Valid] Loss: 0.0399\n",
      "==========================================\n",
      "[42/20] Iteration: 100 [ 91%]\n",
      "------------------------\n",
      "[Train] Loss: 0.0330\n",
      "[Valid] Loss: 0.0384\n",
      "==========================================\n",
      "\n",
      "===============================================================================================================\n"
     ]
    },
    {
     "data": {
      "application/vnd.jupyter.widget-view+json": {
       "model_id": "e8cfd8d343d84add88026f3d0e0843d7",
       "version_major": 2,
       "version_minor": 0
      },
      "text/plain": [
       "HBox(children=(FloatProgress(value=0.0, max=110.0), HTML(value='')))"
      ]
     },
     "metadata": {},
     "output_type": "display_data"
    },
    {
     "name": "stdout",
     "output_type": "stream",
     "text": [
      "[43/20] Iteration:   0 [  0%]\n",
      "------------------------\n",
      "[Train] Loss: 0.0317\n",
      "[Valid] Loss: 0.0362\n",
      "==========================================\n",
      "[43/20] Iteration:  20 [ 18%]\n",
      "------------------------\n",
      "[Train] Loss: 0.0412\n",
      "[Valid] Loss: 0.0420\n",
      "==========================================\n",
      "[43/20] Iteration:  40 [ 36%]\n",
      "------------------------\n",
      "[Train] Loss: 0.0411\n",
      "[Valid] Loss: 0.0334\n",
      "==========================================\n",
      "[43/20] Iteration:  60 [ 55%]\n",
      "------------------------\n",
      "[Train] Loss: 0.0362\n",
      "[Valid] Loss: 0.0323\n",
      "==========================================\n",
      "[43/20] Iteration:  80 [ 73%]\n",
      "------------------------\n",
      "[Train] Loss: 0.0383\n",
      "[Valid] Loss: 0.0515\n",
      "==========================================\n",
      "[43/20] Iteration: 100 [ 91%]\n",
      "------------------------\n",
      "[Train] Loss: 0.0404\n",
      "[Valid] Loss: 0.0402\n",
      "==========================================\n",
      "\n",
      "===============================================================================================================\n"
     ]
    },
    {
     "data": {
      "application/vnd.jupyter.widget-view+json": {
       "model_id": "c239a06c6a8445919dac23732f3b4194",
       "version_major": 2,
       "version_minor": 0
      },
      "text/plain": [
       "HBox(children=(FloatProgress(value=0.0, max=110.0), HTML(value='')))"
      ]
     },
     "metadata": {},
     "output_type": "display_data"
    },
    {
     "name": "stdout",
     "output_type": "stream",
     "text": [
      "[44/20] Iteration:   0 [  0%]\n",
      "------------------------\n",
      "[Train] Loss: 0.0342\n",
      "[Valid] Loss: 0.0398\n",
      "==========================================\n",
      "[44/20] Iteration:  20 [ 18%]\n",
      "------------------------\n",
      "[Train] Loss: 0.0304\n",
      "[Valid] Loss: 0.0441\n",
      "==========================================\n",
      "[44/20] Iteration:  40 [ 36%]\n",
      "------------------------\n",
      "[Train] Loss: 0.0362\n",
      "[Valid] Loss: 0.0310\n",
      "==========================================\n",
      "[44/20] Iteration:  60 [ 55%]\n",
      "------------------------\n",
      "[Train] Loss: 0.0346\n",
      "[Valid] Loss: 0.0405\n",
      "==========================================\n",
      "[44/20] Iteration:  80 [ 73%]\n",
      "------------------------\n",
      "[Train] Loss: 0.0334\n",
      "[Valid] Loss: 0.0600\n",
      "==========================================\n",
      "[44/20] Iteration: 100 [ 91%]\n",
      "------------------------\n",
      "[Train] Loss: 0.0347\n",
      "[Valid] Loss: 0.0427\n",
      "==========================================\n",
      "\n",
      "===============================================================================================================\n"
     ]
    },
    {
     "data": {
      "application/vnd.jupyter.widget-view+json": {
       "model_id": "8d5de3ed68984777b5605bfda328993c",
       "version_major": 2,
       "version_minor": 0
      },
      "text/plain": [
       "HBox(children=(FloatProgress(value=0.0, max=110.0), HTML(value='')))"
      ]
     },
     "metadata": {},
     "output_type": "display_data"
    },
    {
     "name": "stdout",
     "output_type": "stream",
     "text": [
      "[45/20] Iteration:   0 [  0%]\n",
      "------------------------\n",
      "[Train] Loss: 0.0352\n",
      "[Valid] Loss: 0.0393\n",
      "==========================================\n",
      "[45/20] Iteration:  20 [ 18%]\n",
      "------------------------\n",
      "[Train] Loss: 0.0362\n",
      "[Valid] Loss: 0.0315\n",
      "==========================================\n",
      "[45/20] Iteration:  40 [ 36%]\n",
      "------------------------\n",
      "[Train] Loss: 0.0535\n",
      "[Valid] Loss: 0.0329\n",
      "==========================================\n",
      "[45/20] Iteration:  60 [ 55%]\n",
      "------------------------\n",
      "[Train] Loss: 0.0463\n",
      "[Valid] Loss: 0.0718\n",
      "==========================================\n",
      "[45/20] Iteration:  80 [ 73%]\n",
      "------------------------\n",
      "[Train] Loss: 0.0362\n",
      "[Valid] Loss: 0.0508\n",
      "==========================================\n",
      "[45/20] Iteration: 100 [ 91%]\n",
      "------------------------\n",
      "[Train] Loss: 0.0315\n",
      "[Valid] Loss: 0.0362\n",
      "==========================================\n",
      "\n",
      "===============================================================================================================\n"
     ]
    },
    {
     "data": {
      "application/vnd.jupyter.widget-view+json": {
       "model_id": "130f1063a48c43bd97ebb9cbcbed3644",
       "version_major": 2,
       "version_minor": 0
      },
      "text/plain": [
       "HBox(children=(FloatProgress(value=0.0, max=110.0), HTML(value='')))"
      ]
     },
     "metadata": {},
     "output_type": "display_data"
    },
    {
     "name": "stdout",
     "output_type": "stream",
     "text": [
      "[46/20] Iteration:   0 [  0%]\n",
      "------------------------\n",
      "[Train] Loss: 0.0431\n",
      "[Valid] Loss: 0.0365\n",
      "==========================================\n",
      "[46/20] Iteration:  20 [ 18%]\n",
      "------------------------\n",
      "[Train] Loss: 0.0340\n",
      "[Valid] Loss: 0.0437\n",
      "==========================================\n",
      "[46/20] Iteration:  40 [ 36%]\n",
      "------------------------\n",
      "[Train] Loss: 0.0491\n",
      "[Valid] Loss: 0.0403\n",
      "==========================================\n",
      "[46/20] Iteration:  60 [ 55%]\n",
      "------------------------\n",
      "[Train] Loss: 0.0326\n",
      "[Valid] Loss: 0.0332\n",
      "==========================================\n",
      "[46/20] Iteration:  80 [ 73%]\n",
      "------------------------\n",
      "[Train] Loss: 0.0434\n",
      "[Valid] Loss: 0.0336\n",
      "==========================================\n",
      "[46/20] Iteration: 100 [ 91%]\n",
      "------------------------\n",
      "[Train] Loss: 0.0315\n",
      "[Valid] Loss: 0.0517\n",
      "==========================================\n",
      "\n",
      "===============================================================================================================\n"
     ]
    },
    {
     "data": {
      "application/vnd.jupyter.widget-view+json": {
       "model_id": "b493292fcd224639a748d0bf480ebc48",
       "version_major": 2,
       "version_minor": 0
      },
      "text/plain": [
       "HBox(children=(FloatProgress(value=0.0, max=110.0), HTML(value='')))"
      ]
     },
     "metadata": {},
     "output_type": "display_data"
    },
    {
     "name": "stdout",
     "output_type": "stream",
     "text": [
      "[47/20] Iteration:   0 [  0%]\n",
      "------------------------\n",
      "[Train] Loss: 0.0375\n",
      "[Valid] Loss: 0.0382\n",
      "==========================================\n",
      "[47/20] Iteration:  20 [ 18%]\n",
      "------------------------\n",
      "[Train] Loss: 0.0301\n",
      "[Valid] Loss: 0.0670\n",
      "==========================================\n",
      "[47/20] Iteration:  40 [ 36%]\n",
      "------------------------\n",
      "[Train] Loss: 0.0337\n",
      "[Valid] Loss: 0.0402\n",
      "==========================================\n",
      "[47/20] Iteration:  60 [ 55%]\n",
      "------------------------\n",
      "[Train] Loss: 0.0365\n",
      "[Valid] Loss: 0.0315\n",
      "==========================================\n",
      "[47/20] Iteration:  80 [ 73%]\n",
      "------------------------\n",
      "[Train] Loss: 0.0372\n",
      "[Valid] Loss: 0.0271\n",
      "==========================================\n",
      "[47/20] Iteration: 100 [ 91%]\n",
      "------------------------\n",
      "[Train] Loss: 0.0343\n",
      "[Valid] Loss: 0.0279\n",
      "==========================================\n",
      "\n",
      "===============================================================================================================\n"
     ]
    },
    {
     "data": {
      "application/vnd.jupyter.widget-view+json": {
       "model_id": "7fae5c0f94b441899fa9bc6aa6f1bb80",
       "version_major": 2,
       "version_minor": 0
      },
      "text/plain": [
       "HBox(children=(FloatProgress(value=0.0, max=110.0), HTML(value='')))"
      ]
     },
     "metadata": {},
     "output_type": "display_data"
    },
    {
     "name": "stdout",
     "output_type": "stream",
     "text": [
      "[48/20] Iteration:   0 [  0%]\n",
      "------------------------\n",
      "[Train] Loss: 0.0290\n",
      "[Valid] Loss: 0.0566\n",
      "==========================================\n",
      "[48/20] Iteration:  20 [ 18%]\n",
      "------------------------\n",
      "[Train] Loss: 0.0381\n",
      "[Valid] Loss: 0.0375\n",
      "==========================================\n",
      "[48/20] Iteration:  40 [ 36%]\n",
      "------------------------\n",
      "[Train] Loss: 0.0326\n",
      "[Valid] Loss: 0.0311\n",
      "==========================================\n",
      "[48/20] Iteration:  60 [ 55%]\n",
      "------------------------\n",
      "[Train] Loss: 0.0327\n",
      "[Valid] Loss: 0.0341\n",
      "==========================================\n",
      "[48/20] Iteration:  80 [ 73%]\n",
      "------------------------\n",
      "[Train] Loss: 0.0315\n",
      "[Valid] Loss: 0.0387\n",
      "==========================================\n",
      "[48/20] Iteration: 100 [ 91%]\n",
      "------------------------\n",
      "[Train] Loss: 0.0411\n",
      "[Valid] Loss: 0.0370\n",
      "==========================================\n",
      "\n",
      "===============================================================================================================\n"
     ]
    },
    {
     "data": {
      "application/vnd.jupyter.widget-view+json": {
       "model_id": "60fbd8b48f7a4cbe82ab56139f0013f7",
       "version_major": 2,
       "version_minor": 0
      },
      "text/plain": [
       "HBox(children=(FloatProgress(value=0.0, max=110.0), HTML(value='')))"
      ]
     },
     "metadata": {},
     "output_type": "display_data"
    },
    {
     "name": "stdout",
     "output_type": "stream",
     "text": [
      "[49/20] Iteration:   0 [  0%]\n",
      "------------------------\n",
      "[Train] Loss: 0.0288\n",
      "[Valid] Loss: 0.0407\n",
      "==========================================\n",
      "[49/20] Iteration:  20 [ 18%]\n",
      "------------------------\n",
      "[Train] Loss: 0.0354\n",
      "[Valid] Loss: 0.0367\n",
      "==========================================\n",
      "[49/20] Iteration:  40 [ 36%]\n",
      "------------------------\n",
      "[Train] Loss: 0.0404\n",
      "[Valid] Loss: 0.0374\n",
      "==========================================\n",
      "[49/20] Iteration:  60 [ 55%]\n",
      "------------------------\n",
      "[Train] Loss: 0.0278\n",
      "[Valid] Loss: 0.0334\n",
      "==========================================\n",
      "[49/20] Iteration:  80 [ 73%]\n",
      "------------------------\n",
      "[Train] Loss: 0.0344\n",
      "[Valid] Loss: 0.0387\n",
      "==========================================\n",
      "[49/20] Iteration: 100 [ 91%]\n",
      "------------------------\n",
      "[Train] Loss: 0.0347\n",
      "[Valid] Loss: 0.0324\n",
      "==========================================\n",
      "\n",
      "===============================================================================================================\n"
     ]
    },
    {
     "data": {
      "application/vnd.jupyter.widget-view+json": {
       "model_id": "14e13387ae3f46d08b85be26981e95b4",
       "version_major": 2,
       "version_minor": 0
      },
      "text/plain": [
       "HBox(children=(FloatProgress(value=0.0, max=110.0), HTML(value='')))"
      ]
     },
     "metadata": {},
     "output_type": "display_data"
    },
    {
     "name": "stdout",
     "output_type": "stream",
     "text": [
      "[50/20] Iteration:   0 [  0%]\n",
      "------------------------\n",
      "[Train] Loss: 0.0314\n",
      "[Valid] Loss: 0.0555\n",
      "==========================================\n",
      "[50/20] Iteration:  20 [ 18%]\n",
      "------------------------\n",
      "[Train] Loss: 0.0316\n",
      "[Valid] Loss: 0.0287\n",
      "==========================================\n",
      "[50/20] Iteration:  40 [ 36%]\n",
      "------------------------\n",
      "[Train] Loss: 0.0368\n",
      "[Valid] Loss: 0.0323\n",
      "==========================================\n",
      "[50/20] Iteration:  60 [ 55%]\n",
      "------------------------\n",
      "[Train] Loss: 0.0295\n",
      "[Valid] Loss: 0.0386\n",
      "==========================================\n",
      "[50/20] Iteration:  80 [ 73%]\n",
      "------------------------\n",
      "[Train] Loss: 0.0352\n",
      "[Valid] Loss: 0.0575\n",
      "==========================================\n",
      "[50/20] Iteration: 100 [ 91%]\n",
      "------------------------\n",
      "[Train] Loss: 0.0356\n",
      "[Valid] Loss: 0.0346\n",
      "==========================================\n",
      "\n",
      "===============================================================================================================\n"
     ]
    },
    {
     "data": {
      "application/vnd.jupyter.widget-view+json": {
       "model_id": "65a66edb0b0043f6bb224d01b974d7f3",
       "version_major": 2,
       "version_minor": 0
      },
      "text/plain": [
       "HBox(children=(FloatProgress(value=0.0, max=110.0), HTML(value='')))"
      ]
     },
     "metadata": {},
     "output_type": "display_data"
    },
    {
     "name": "stdout",
     "output_type": "stream",
     "text": [
      "[51/20] Iteration:   0 [  0%]\n",
      "------------------------\n",
      "[Train] Loss: 0.0505\n",
      "[Valid] Loss: 0.0395\n",
      "==========================================\n",
      "[51/20] Iteration:  20 [ 18%]\n",
      "------------------------\n",
      "[Train] Loss: 0.0506\n",
      "[Valid] Loss: 0.0331\n",
      "==========================================\n",
      "[51/20] Iteration:  40 [ 36%]\n",
      "------------------------\n",
      "[Train] Loss: 0.0310\n",
      "[Valid] Loss: 0.0321\n",
      "==========================================\n",
      "[51/20] Iteration:  60 [ 55%]\n",
      "------------------------\n",
      "[Train] Loss: 0.0292\n",
      "[Valid] Loss: 0.0395\n",
      "==========================================\n",
      "[51/20] Iteration:  80 [ 73%]\n",
      "------------------------\n",
      "[Train] Loss: 0.0334\n",
      "[Valid] Loss: 0.0402\n",
      "==========================================\n",
      "[51/20] Iteration: 100 [ 91%]\n",
      "------------------------\n",
      "[Train] Loss: 0.0400\n",
      "[Valid] Loss: 0.0404\n",
      "==========================================\n",
      "\n",
      "===============================================================================================================\n"
     ]
    },
    {
     "data": {
      "application/vnd.jupyter.widget-view+json": {
       "model_id": "8016d804d74d45869070a413577315bb",
       "version_major": 2,
       "version_minor": 0
      },
      "text/plain": [
       "HBox(children=(FloatProgress(value=0.0, max=110.0), HTML(value='')))"
      ]
     },
     "metadata": {},
     "output_type": "display_data"
    },
    {
     "name": "stdout",
     "output_type": "stream",
     "text": [
      "[52/20] Iteration:   0 [  0%]\n",
      "------------------------\n",
      "[Train] Loss: 0.0416\n",
      "[Valid] Loss: 0.0485\n",
      "==========================================\n",
      "[52/20] Iteration:  20 [ 18%]\n",
      "------------------------\n",
      "[Train] Loss: 0.0340\n",
      "[Valid] Loss: 0.0584\n",
      "==========================================\n",
      "[52/20] Iteration:  40 [ 36%]\n",
      "------------------------\n",
      "[Train] Loss: 0.0363\n",
      "[Valid] Loss: 0.0369\n",
      "==========================================\n",
      "[52/20] Iteration:  60 [ 55%]\n",
      "------------------------\n",
      "[Train] Loss: 0.0292\n",
      "[Valid] Loss: 0.0315\n",
      "==========================================\n",
      "[52/20] Iteration:  80 [ 73%]\n",
      "------------------------\n",
      "[Train] Loss: 0.0346\n",
      "[Valid] Loss: 0.0401\n",
      "==========================================\n",
      "[52/20] Iteration: 100 [ 91%]\n",
      "------------------------\n",
      "[Train] Loss: 0.0364\n",
      "[Valid] Loss: 0.0382\n",
      "==========================================\n",
      "\n",
      "===============================================================================================================\n"
     ]
    },
    {
     "data": {
      "application/vnd.jupyter.widget-view+json": {
       "model_id": "03beac0ddfd74100a6365f1f7db47f5e",
       "version_major": 2,
       "version_minor": 0
      },
      "text/plain": [
       "HBox(children=(FloatProgress(value=0.0, max=110.0), HTML(value='')))"
      ]
     },
     "metadata": {},
     "output_type": "display_data"
    },
    {
     "name": "stdout",
     "output_type": "stream",
     "text": [
      "[53/20] Iteration:   0 [  0%]\n",
      "------------------------\n",
      "[Train] Loss: 0.0354\n",
      "[Valid] Loss: 0.0417\n",
      "==========================================\n",
      "[53/20] Iteration:  20 [ 18%]\n",
      "------------------------\n",
      "[Train] Loss: 0.0285\n",
      "[Valid] Loss: 0.0376\n",
      "==========================================\n",
      "[53/20] Iteration:  40 [ 36%]\n",
      "------------------------\n",
      "[Train] Loss: 0.0308\n",
      "[Valid] Loss: 0.0286\n",
      "==========================================\n",
      "[53/20] Iteration:  60 [ 55%]\n",
      "------------------------\n",
      "[Train] Loss: 0.0331\n",
      "[Valid] Loss: 0.0291\n",
      "==========================================\n",
      "[53/20] Iteration:  80 [ 73%]\n",
      "------------------------\n",
      "[Train] Loss: 0.0360\n",
      "[Valid] Loss: 0.0578\n",
      "==========================================\n",
      "[53/20] Iteration: 100 [ 91%]\n",
      "------------------------\n",
      "[Train] Loss: 0.0396\n",
      "[Valid] Loss: 0.0311\n",
      "==========================================\n",
      "\n",
      "===============================================================================================================\n"
     ]
    },
    {
     "data": {
      "application/vnd.jupyter.widget-view+json": {
       "model_id": "fee37953f9064607ac479c0fe82a5964",
       "version_major": 2,
       "version_minor": 0
      },
      "text/plain": [
       "HBox(children=(FloatProgress(value=0.0, max=110.0), HTML(value='')))"
      ]
     },
     "metadata": {},
     "output_type": "display_data"
    },
    {
     "name": "stdout",
     "output_type": "stream",
     "text": [
      "[54/20] Iteration:   0 [  0%]\n",
      "------------------------\n",
      "[Train] Loss: 0.0321\n",
      "[Valid] Loss: 0.0376\n",
      "==========================================\n",
      "[54/20] Iteration:  20 [ 18%]\n",
      "------------------------\n",
      "[Train] Loss: 0.0364\n",
      "[Valid] Loss: 0.0344\n",
      "==========================================\n",
      "[54/20] Iteration:  40 [ 36%]\n",
      "------------------------\n",
      "[Train] Loss: 0.0294\n",
      "[Valid] Loss: 0.0304\n",
      "==========================================\n",
      "[54/20] Iteration:  60 [ 55%]\n",
      "------------------------\n",
      "[Train] Loss: 0.0341\n",
      "[Valid] Loss: 0.0342\n",
      "==========================================\n",
      "[54/20] Iteration:  80 [ 73%]\n",
      "------------------------\n",
      "[Train] Loss: 0.0366\n",
      "[Valid] Loss: 0.0347\n",
      "==========================================\n",
      "[54/20] Iteration: 100 [ 91%]\n",
      "------------------------\n",
      "[Train] Loss: 0.0364\n",
      "[Valid] Loss: 0.0352\n",
      "==========================================\n",
      "\n",
      "===============================================================================================================\n"
     ]
    },
    {
     "data": {
      "application/vnd.jupyter.widget-view+json": {
       "model_id": "1953d09159d4403b98ad92fcd4346e7d",
       "version_major": 2,
       "version_minor": 0
      },
      "text/plain": [
       "HBox(children=(FloatProgress(value=0.0, max=110.0), HTML(value='')))"
      ]
     },
     "metadata": {},
     "output_type": "display_data"
    },
    {
     "name": "stdout",
     "output_type": "stream",
     "text": [
      "[55/20] Iteration:   0 [  0%]\n",
      "------------------------\n",
      "[Train] Loss: 0.0263\n",
      "[Valid] Loss: 0.0364\n",
      "==========================================\n",
      "[55/20] Iteration:  20 [ 18%]\n",
      "------------------------\n",
      "[Train] Loss: 0.0296\n",
      "[Valid] Loss: 0.0408\n",
      "==========================================\n",
      "[55/20] Iteration:  40 [ 36%]\n",
      "------------------------\n",
      "[Train] Loss: 0.0322\n",
      "[Valid] Loss: 0.0564\n",
      "==========================================\n",
      "[55/20] Iteration:  60 [ 55%]\n",
      "------------------------\n",
      "[Train] Loss: 0.0363\n",
      "[Valid] Loss: 0.0299\n",
      "==========================================\n",
      "[55/20] Iteration:  80 [ 73%]\n",
      "------------------------\n",
      "[Train] Loss: 0.0286\n",
      "[Valid] Loss: 0.0357\n",
      "==========================================\n",
      "[55/20] Iteration: 100 [ 91%]\n",
      "------------------------\n",
      "[Train] Loss: 0.0354\n",
      "[Valid] Loss: 0.0377\n",
      "==========================================\n",
      "\n",
      "===============================================================================================================\n"
     ]
    },
    {
     "data": {
      "application/vnd.jupyter.widget-view+json": {
       "model_id": "99b633d0726b4ad29aa053f36bcf5eda",
       "version_major": 2,
       "version_minor": 0
      },
      "text/plain": [
       "HBox(children=(FloatProgress(value=0.0, max=110.0), HTML(value='')))"
      ]
     },
     "metadata": {},
     "output_type": "display_data"
    },
    {
     "name": "stdout",
     "output_type": "stream",
     "text": [
      "[56/20] Iteration:   0 [  0%]\n",
      "------------------------\n",
      "[Train] Loss: 0.0332\n",
      "[Valid] Loss: 0.0381\n",
      "==========================================\n",
      "[56/20] Iteration:  20 [ 18%]\n",
      "------------------------\n",
      "[Train] Loss: 0.0388\n",
      "[Valid] Loss: 0.0289\n",
      "==========================================\n",
      "[56/20] Iteration:  40 [ 36%]\n",
      "------------------------\n",
      "[Train] Loss: 0.0331\n",
      "[Valid] Loss: 0.0436\n",
      "==========================================\n",
      "[56/20] Iteration:  60 [ 55%]\n",
      "------------------------\n",
      "[Train] Loss: 0.0350\n",
      "[Valid] Loss: 0.0710\n",
      "==========================================\n",
      "[56/20] Iteration:  80 [ 73%]\n",
      "------------------------\n",
      "[Train] Loss: 0.0336\n",
      "[Valid] Loss: 0.0328\n",
      "==========================================\n",
      "[56/20] Iteration: 100 [ 91%]\n",
      "------------------------\n",
      "[Train] Loss: 0.0516\n",
      "[Valid] Loss: 0.0320\n",
      "==========================================\n",
      "\n",
      "===============================================================================================================\n"
     ]
    },
    {
     "data": {
      "application/vnd.jupyter.widget-view+json": {
       "model_id": "de12bff9b59744eab215df93966f25a1",
       "version_major": 2,
       "version_minor": 0
      },
      "text/plain": [
       "HBox(children=(FloatProgress(value=0.0, max=110.0), HTML(value='')))"
      ]
     },
     "metadata": {},
     "output_type": "display_data"
    },
    {
     "name": "stdout",
     "output_type": "stream",
     "text": [
      "[57/20] Iteration:   0 [  0%]\n",
      "------------------------\n",
      "[Train] Loss: 0.0350\n",
      "[Valid] Loss: 0.0566\n",
      "==========================================\n",
      "[57/20] Iteration:  20 [ 18%]\n",
      "------------------------\n",
      "[Train] Loss: 0.0296\n",
      "[Valid] Loss: 0.0397\n",
      "==========================================\n",
      "[57/20] Iteration:  40 [ 36%]\n",
      "------------------------\n",
      "[Train] Loss: 0.0347\n",
      "[Valid] Loss: 0.0281\n",
      "==========================================\n",
      "[57/20] Iteration:  60 [ 55%]\n",
      "------------------------\n",
      "[Train] Loss: 0.0526\n",
      "[Valid] Loss: 0.0319\n",
      "==========================================\n",
      "[57/20] Iteration:  80 [ 73%]\n",
      "------------------------\n",
      "[Train] Loss: 0.0335\n",
      "[Valid] Loss: 0.0382\n",
      "==========================================\n",
      "[57/20] Iteration: 100 [ 91%]\n",
      "------------------------\n",
      "[Train] Loss: 0.0340\n",
      "[Valid] Loss: 0.0492\n",
      "==========================================\n",
      "\n",
      "===============================================================================================================\n"
     ]
    },
    {
     "data": {
      "application/vnd.jupyter.widget-view+json": {
       "model_id": "b687698005bb47eb81347a803ad5299f",
       "version_major": 2,
       "version_minor": 0
      },
      "text/plain": [
       "HBox(children=(FloatProgress(value=0.0, max=110.0), HTML(value='')))"
      ]
     },
     "metadata": {},
     "output_type": "display_data"
    },
    {
     "name": "stdout",
     "output_type": "stream",
     "text": [
      "[58/20] Iteration:   0 [  0%]\n",
      "------------------------\n",
      "[Train] Loss: 0.0320\n",
      "[Valid] Loss: 0.0320\n",
      "==========================================\n",
      "[58/20] Iteration:  20 [ 18%]\n",
      "------------------------\n",
      "[Train] Loss: 0.0311\n",
      "[Valid] Loss: 0.0395\n",
      "==========================================\n",
      "[58/20] Iteration:  40 [ 36%]\n",
      "------------------------\n",
      "[Train] Loss: 0.0332\n",
      "[Valid] Loss: 0.0328\n",
      "==========================================\n",
      "[58/20] Iteration:  60 [ 55%]\n",
      "------------------------\n",
      "[Train] Loss: 0.0368\n",
      "[Valid] Loss: 0.0323\n",
      "==========================================\n",
      "[58/20] Iteration:  80 [ 73%]\n",
      "------------------------\n",
      "[Train] Loss: 0.0379\n",
      "[Valid] Loss: 0.0358\n",
      "==========================================\n",
      "[58/20] Iteration: 100 [ 91%]\n",
      "------------------------\n",
      "[Train] Loss: 0.0297\n",
      "[Valid] Loss: 0.0335\n",
      "==========================================\n",
      "\n",
      "===============================================================================================================\n"
     ]
    },
    {
     "data": {
      "application/vnd.jupyter.widget-view+json": {
       "model_id": "678e19595c504d8d95c52c02aa792914",
       "version_major": 2,
       "version_minor": 0
      },
      "text/plain": [
       "HBox(children=(FloatProgress(value=0.0, max=110.0), HTML(value='')))"
      ]
     },
     "metadata": {},
     "output_type": "display_data"
    },
    {
     "name": "stdout",
     "output_type": "stream",
     "text": [
      "[59/20] Iteration:   0 [  0%]\n",
      "------------------------\n",
      "[Train] Loss: 0.0310\n",
      "[Valid] Loss: 0.0489\n",
      "==========================================\n",
      "[59/20] Iteration:  20 [ 18%]\n",
      "------------------------\n",
      "[Train] Loss: 0.0270\n",
      "[Valid] Loss: 0.0320\n",
      "==========================================\n",
      "[59/20] Iteration:  40 [ 36%]\n",
      "------------------------\n",
      "[Train] Loss: 0.0588\n",
      "[Valid] Loss: 0.0259\n",
      "==========================================\n",
      "[59/20] Iteration:  60 [ 55%]\n",
      "------------------------\n",
      "[Train] Loss: 0.0349\n",
      "[Valid] Loss: 0.0507\n",
      "==========================================\n",
      "[59/20] Iteration:  80 [ 73%]\n",
      "------------------------\n",
      "[Train] Loss: 0.0369\n",
      "[Valid] Loss: 0.0425\n",
      "==========================================\n",
      "[59/20] Iteration: 100 [ 91%]\n",
      "------------------------\n",
      "[Train] Loss: 0.0307\n",
      "[Valid] Loss: 0.0292\n",
      "==========================================\n",
      "\n",
      "===============================================================================================================\n"
     ]
    },
    {
     "data": {
      "application/vnd.jupyter.widget-view+json": {
       "model_id": "93e954d2196744bfb8c5c0400acd426e",
       "version_major": 2,
       "version_minor": 0
      },
      "text/plain": [
       "HBox(children=(FloatProgress(value=0.0, max=110.0), HTML(value='')))"
      ]
     },
     "metadata": {},
     "output_type": "display_data"
    },
    {
     "name": "stdout",
     "output_type": "stream",
     "text": [
      "[60/20] Iteration:   0 [  0%]\n",
      "------------------------\n",
      "[Train] Loss: 0.0361\n",
      "[Valid] Loss: 0.0466\n",
      "==========================================\n",
      "[60/20] Iteration:  20 [ 18%]\n",
      "------------------------\n",
      "[Train] Loss: 0.0390\n",
      "[Valid] Loss: 0.0346\n",
      "==========================================\n",
      "[60/20] Iteration:  40 [ 36%]\n",
      "------------------------\n",
      "[Train] Loss: 0.0292\n",
      "[Valid] Loss: 0.0325\n",
      "==========================================\n",
      "[60/20] Iteration:  60 [ 55%]\n",
      "------------------------\n",
      "[Train] Loss: 0.0330\n",
      "[Valid] Loss: 0.0359\n",
      "==========================================\n",
      "[60/20] Iteration:  80 [ 73%]\n",
      "------------------------\n",
      "[Train] Loss: 0.0336\n",
      "[Valid] Loss: 0.0402\n",
      "==========================================\n",
      "[60/20] Iteration: 100 [ 91%]\n",
      "------------------------\n",
      "[Train] Loss: 0.0343\n",
      "[Valid] Loss: 0.0602\n",
      "==========================================\n",
      "\n",
      "Time taken :  71.082932472229\n"
     ]
    }
   ],
   "source": [
    "time_start = time.time()\n",
    "\n",
    "soft = torch.nn.Softmax(dim=1) \n",
    "train_labels = np.array([])\n",
    "train_preds = np.array([])\n",
    "\n",
    "len_train_batches = len(train_loader)\n",
    "len_valid_batches = len(valid_loader)\n",
    "\n",
    "for epoch in range(num_epochs):\n",
    "    epoch_count += 1\n",
    "    print(\"===============================================================================================================\")\n",
    "    # print(\"### Epoch : {:2d}/{:2d} ###\".format(epoch_count, num_epochs))\n",
    "    \n",
    "    it_train_loader = iter(train_loader)\n",
    "    \n",
    "    model.train()\n",
    "    for iteration in tqdm_notebook(range(len_train_batches)):\n",
    "        iterr_count += 1\n",
    "\n",
    "        images, labels = next(it_train_loader)\n",
    "        images = images.type(torch.float).to(device)\n",
    "        labels = labels.type(torch.float).to(device)\n",
    "        \n",
    "        optimizer.zero_grad()\n",
    "        preds = model(images)\n",
    "        loss = criterion(preds, labels)\n",
    "        loss.backward()\n",
    "        optimizer.step()\n",
    "        \n",
    "        if(monitor_train):\n",
    "            preds = preds.detach().cpu().numpy()\n",
    "#             preds = np.argmax(preds, axis=1)\n",
    "            labels = labels.cpu().numpy()\n",
    "            train_preds = np.append(train_preds, preds)\n",
    "            train_labels = np.append(train_labels, labels)\n",
    "\n",
    "        # ---------------------------------------------------------------------------------------------\n",
    "        ####################################### Validation #######################################\n",
    "        if(iteration % inspect_size != 0): continue\n",
    "\n",
    "        if(monitor_iter):\n",
    "            print(\"[{:2d}/{:2d}] Iteration: {:3d} [{:3.0f}%]\".format(epoch_count, num_epochs, iteration, (iteration/len_train_batches) * 100, iteration))\n",
    "            print(\"------------------------\")\n",
    "            iter_list.append(iterr_count)\n",
    "        \n",
    "        if(save_bset): print(\" - BValid f1: {:0.4f}\".format(best_yet_f1))\n",
    "            \n",
    "        if(monitor_train):\n",
    "#             train_f1 = f1_score(train_labels, train_preds, average='micro')  \n",
    "#             train_acc = accuracy_score(train_labels, train_preds)\n",
    "            train_loss = loss.item()\n",
    "            train_loss_list.append(train_loss)\n",
    "#             train_acc_list.append(train_acc)\n",
    "            print(\"[Train] Loss: {:0.4f}\".format(train_loss))\n",
    "            if(not monitor_train_preds):\n",
    "                train_labels = np.array([])\n",
    "                train_preds = np.array([])  \n",
    "\n",
    "        if(monitor_valid):\n",
    "            model.eval()\n",
    "            valid_labels = np.array([])\n",
    "            valid_preds = np.array([])\n",
    "            \n",
    "            it_valid_loader = iter(valid_loader)\n",
    "\n",
    "            for iteration in range(len_valid_batches):\n",
    "                with torch.no_grad():\n",
    "\n",
    "                    images, labels = next(it_valid_loader)\n",
    "                    images = images.type(torch.float).to(device)\n",
    "                    labels = labels.to(device)\n",
    "                    preds = model(images)\n",
    "                    \n",
    "                    loss = criterion(preds, labels)\n",
    "\n",
    "                    preds = preds.detach().cpu().numpy()\n",
    "#                     preds = np.argmax(preds, axis=1)\n",
    "                    labels = labels.to('cpu').numpy()\n",
    "\n",
    "                    valid_labels = np.append(valid_labels, labels)\n",
    "                    valid_preds = np.append(valid_preds, preds)\n",
    "\n",
    "                    if(eval_length != None and iteration == eval_length): \n",
    "                        break \n",
    "\n",
    "#             valid_f1 = f1_score(valid_labels, valid_preds, average='micro')  \n",
    "#             valid_acc = accuracy_score(valid_labels, valid_preds)\n",
    "            valid_loss = loss.item()\n",
    "            valid_loss_list.append(valid_loss)\n",
    "#             valid_acc_list.append(valid_acc)\n",
    "\n",
    "            print(\"[Valid] Loss: {:0.4f}\".format(valid_loss))\n",
    "            \n",
    "            if(save_bset and valid_f1 > best_yet_f1):\n",
    "                best_yet_f1 = valid_f1\n",
    "                torch.save(model.state_dict(), \"best_yet.pt\")\n",
    "                print(\"########### Saved best model ###########\")\n",
    "        \n",
    "        if(monitor_train_preds):\n",
    "            print(\"Train Target : \", train_labels[:24])\n",
    "            print(\"Train Preds  : \", train_preds[:24])\n",
    "            train_labels = np.array([])\n",
    "            train_preds = np.array([])\n",
    "\n",
    "        if(monitor_valid_preds):\n",
    "            print(\"Valid Target : \", valid_labels[:24])\n",
    "            print(\"Valid Preds  : \", valid_preds[:24])\n",
    "\n",
    "        print(\"==========================================\")\n",
    "\n",
    "time_end = time.time()\n",
    "print(\"Time taken : \", time_end-time_start)"
   ]
  },
  {
   "cell_type": "code",
   "execution_count": 140,
   "metadata": {},
   "outputs": [],
   "source": [
    "'''GENERATING AVERAGE INSPECTION LISTS'''\n",
    "\n",
    "os.makedirs('Graphs', exist_ok=True)\n",
    "\n",
    "# Defining roll function\n",
    "def make_roll(input_list, roll_size=5):\n",
    "    output_list = []\n",
    "    \n",
    "    for i in range(len(input_list)):\n",
    "        if i==0:\n",
    "            output_list.append(input_list[0])\n",
    "        elif i<roll_size:\n",
    "            output_list.append(np.mean(input_list[:i+1]))\n",
    "        else:\n",
    "            output_list.append(np.mean(input_list[i-roll_size:i]))\n",
    "    return output_list\n",
    "\n",
    "# Generating roll lists\n",
    "train_roll_loss_list = make_roll(train_loss_list, roll_size=5) \n",
    "train_roll_acc_list = make_roll(train_acc_list, roll_size=5)  \n",
    "\n",
    "valid_roll_acc_list = make_roll(valid_acc_list, roll_size=5)  \n",
    "valid_roll_loss_list = make_roll(valid_loss_list, roll_size=5)  "
   ]
  },
  {
   "cell_type": "code",
   "execution_count": 141,
   "metadata": {},
   "outputs": [
    {
     "data": {
      "image/png": "[encoded data removed]",
      "text/plain": [
       "<Figure size 1080x720 with 1 Axes>"
      ]
     },
     "metadata": {
      "needs_background": "light"
     },
     "output_type": "display_data"
    }
   ],
   "source": [
    "'''PLOTTTING THE LOSS GRAPH'''\n",
    "\n",
    "plt.figure(figsize=[15,10])\n",
    "\n",
    "plt.plot(train_loss_list, '-', lw=1, c='salmon', label='Train Loss')\n",
    "plt.plot(train_roll_loss_list, '-|r', lw=3, label='Train Loss [Avg]')\n",
    "\n",
    "plt.plot(valid_loss_list, '-', lw=1, c='brown', label='Valid Loss')\n",
    "plt.plot(valid_roll_loss_list, '-|k', lw=3, label='Valid Loss [Avg]')\n",
    "\n",
    "plt.title('model-{} : LOSS vs ITERATIONS'.format(-1))\n",
    "plt.xlabel('Number of Iterations')\n",
    "plt.ylabel('Loss')\n",
    "\n",
    "plt.grid(True, linestyle='-.',)\n",
    "plt.tick_params()\n",
    "plt.legend()\n",
    "# plt.savefig(\"Graphs/model-{}_epochs={}_loss.png\".format(params['model_no'], params['num_epochs_trained']), dpi=100)\n",
    "plt.show()"
   ]
  },
  {
   "cell_type": "code",
   "execution_count": null,
   "metadata": {},
   "outputs": [],
   "source": []
  }
 ],
 "metadata": {
  "kernelspec": {
   "display_name": "Python 3",
   "language": "python",
   "name": "python3"
  },
  "language_info": {
   "codemirror_mode": {
    "name": "ipython",
    "version": 3
   },
   "file_extension": ".py",
   "mimetype": "text/x-python",
   "name": "python",
   "nbconvert_exporter": "python",
   "pygments_lexer": "ipython3",
   "version": "3.7.6"
  }
 },
 "nbformat": 4,
 "nbformat_minor": 4
}
